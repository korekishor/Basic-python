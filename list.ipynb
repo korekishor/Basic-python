{
 "cells": [
  {
   "cell_type": "markdown",
   "id": "ed8b3fb4",
   "metadata": {},
   "source": [
    "# list list=[list(),id(),print(),type(),is,is not, in ,not in,len(),append(),remove(),insert(),extend(),copy(),clear(),index(),pop()\n",
    "    "
   ]
  },
  {
   "cell_type": "markdown",
   "id": "3088e433",
   "metadata": {},
   "source": [
    "# reverse(),sort(),sort(reverse=True),max(),sorted(list_name),min(),count()]"
   ]
  },
  {
   "cell_type": "code",
   "execution_count": 6,
   "id": "c3f12156",
   "metadata": {},
   "outputs": [
    {
     "name": "stdout",
     "output_type": "stream",
     "text": [
      "123\n",
      "[123]\n",
      "123\n"
     ]
    },
    {
     "ename": "AttributeError",
     "evalue": "'int' object has no attribute 'split'",
     "output_type": "error",
     "traceback": [
      "\u001b[1;31m---------------------------------------------------------------------------\u001b[0m",
      "\u001b[1;31mAttributeError\u001b[0m                            Traceback (most recent call last)",
      "Input \u001b[1;32mIn [6]\u001b[0m, in \u001b[0;36m<cell line: 8>\u001b[1;34m()\u001b[0m\n\u001b[0;32m      3\u001b[0m l\u001b[38;5;241m=\u001b[39m\u001b[38;5;28mlist\u001b[39m(\u001b[38;5;28mmap\u001b[39m(\u001b[38;5;28mint\u001b[39m,\u001b[38;5;28minput\u001b[39m()\u001b[38;5;241m.\u001b[39msplit(\u001b[38;5;124m'\u001b[39m\u001b[38;5;124m \u001b[39m\u001b[38;5;124m'\u001b[39m)))\n\u001b[0;32m      5\u001b[0m \u001b[38;5;28mprint\u001b[39m(l)\n\u001b[1;32m----> 8\u001b[0m no \u001b[38;5;241m=\u001b[39m \u001b[38;5;28;43mint\u001b[39;49m\u001b[43m(\u001b[49m\u001b[38;5;28;43minput\u001b[39;49m\u001b[43m(\u001b[49m\u001b[43m)\u001b[49m\u001b[43m)\u001b[49m\u001b[38;5;241;43m.\u001b[39;49m\u001b[43msplit\u001b[49m(\u001b[38;5;124m'\u001b[39m\u001b[38;5;124m \u001b[39m\u001b[38;5;124m'\u001b[39m)\n",
      "\u001b[1;31mAttributeError\u001b[0m: 'int' object has no attribute 'split'"
     ]
    }
   ],
   "source": [
    "# accept list from user\n",
    "\n",
    "l=list(map(int,input().split(' ')))\n",
    "\n",
    "print(l)\n",
    "\n"
   ]
  },
  {
   "cell_type": "code",
   "execution_count": 1,
   "id": "655827e8",
   "metadata": {},
   "outputs": [],
   "source": [
    "\n",
    "no = input('Enter the number ').split(' ')\n"
   ]
  },
  {
   "cell_type": "code",
   "execution_count": null,
   "id": "79500fba",
   "metadata": {},
   "outputs": [],
   "source": [
    "no"
   ]
  },
  {
   "cell_type": "code",
   "execution_count": 16,
   "id": "1f89a689",
   "metadata": {},
   "outputs": [
    {
     "name": "stdout",
     "output_type": "stream",
     "text": [
      "<class 'list'>\n",
      "id stand for adress:  2733385625856\n",
      "len function stand for length :  9\n"
     ]
    }
   ],
   "source": [
    "list=[12,34,\"nothing\",656,44,\"hi\",23,\"hi\",\"hellow\"]\n",
    "print(type(list))\n",
    "print(\"id stand for adress: \",id(list))\n",
    "print(\"len function stand for length : \",len(list))"
   ]
  },
  {
   "cell_type": "raw",
   "id": "b36c7b61",
   "metadata": {},
   "source": [
    "list=[23 ,67,45]\n",
    "print(max(list))\n",
    "max function can only work on same data type"
   ]
  },
  {
   "cell_type": "code",
   "execution_count": 17,
   "id": "e6436688",
   "metadata": {},
   "outputs": [
    {
     "name": "stdout",
     "output_type": "stream",
     "text": [
      "hi\n"
     ]
    }
   ],
   "source": [
    "list=[\"hi\",\"Hi\"]\n",
    "print(max(list))\n"
   ]
  },
  {
   "cell_type": "code",
   "execution_count": 21,
   "id": "583eb4e0",
   "metadata": {},
   "outputs": [
    {
     "name": "stdout",
     "output_type": "stream",
     "text": [
      "1897741847552\n",
      "1897741857536\n",
      "False\n",
      "True\n"
     ]
    }
   ],
   "source": [
    "l=[1,2,3]\n",
    "l2=[1,2,3]\n",
    "print(id(l))\n",
    "print(id(l2))\n",
    "print(l is l2)\n",
    "print(l is not l2)\n",
    " "
   ]
  },
  {
   "cell_type": "code",
   "execution_count": 24,
   "id": "e693da63",
   "metadata": {},
   "outputs": [
    {
     "name": "stdout",
     "output_type": "stream",
     "text": [
      "this is empty list\n"
     ]
    }
   ],
   "source": [
    "list=[]\n",
    "if len(list)==0:\n",
    "    print(\"this is empty list\")\n",
    "else:\n",
    "    print(\"this is not empty list\")"
   ]
  },
  {
   "cell_type": "code",
   "execution_count": 18,
   "id": "e065bc3c",
   "metadata": {},
   "outputs": [
    {
     "name": "stdout",
     "output_type": "stream",
     "text": [
      "list is empty\n"
     ]
    }
   ],
   "source": [
    "list=[]\n",
    "if list:\n",
    "    print(\"list is  present\")\n",
    "else:\n",
    "    print(\"list is empty\")"
   ]
  },
  {
   "cell_type": "code",
   "execution_count": 31,
   "id": "6e71279b",
   "metadata": {},
   "outputs": [
    {
     "name": "stdout",
     "output_type": "stream",
     "text": [
      "that present\n"
     ]
    }
   ],
   "source": [
    "l=[2,3,4]\n",
    "n=4\n",
    "if n in l:\n",
    "    print(\"that present\")\n",
    "else:\n",
    "    print(\"not present\")"
   ]
  },
  {
   "cell_type": "code",
   "execution_count": 19,
   "id": "736e38dc",
   "metadata": {},
   "outputs": [
    {
     "ename": "SyntaxError",
     "evalue": "invalid syntax (552390355.py, line 7)",
     "output_type": "error",
     "traceback": [
      "\u001b[1;36m  Input \u001b[1;32mIn [19]\u001b[1;36m\u001b[0m\n\u001b[1;33m    if s=='<class 'dict'>':\u001b[0m\n\u001b[1;37m                   ^\u001b[0m\n\u001b[1;31mSyntaxError\u001b[0m\u001b[1;31m:\u001b[0m invalid syntax\n"
     ]
    }
   ],
   "source": [
    "d={'hi':{'a':12,'b':{'H':{'h':234}}},\"js\":{'e':45,'y':34},34:64,55:464,433:494}\n",
    "print(d)\n",
    "for i in (d):\n",
    "    s=type(d[i])\n",
    "  \n",
    "#     print(i,\" \",type(d[i]))\n",
    "    if s=='<class 'dict'>':\n",
    "        print(d[i],\"  is dict\")"
   ]
  },
  {
   "cell_type": "code",
   "execution_count": 38,
   "id": "3474b07f",
   "metadata": {},
   "outputs": [
    {
     "name": "stdout",
     "output_type": "stream",
     "text": [
      "234\n"
     ]
    }
   ],
   "source": [
    "d={'hi':{'a':12,'b':{'H':{'h':{'x':234}}}},\"js\":{'e':45,'y':34},34:64,55:464,433:494}\n",
    "\n",
    "# drag out 234 from d \n",
    "# by using loop\n",
    "print(d['hi']['b']['H']['h']['x'])\n",
    "\n"
   ]
  },
  {
   "cell_type": "code",
   "execution_count": null,
   "id": "fe961233",
   "metadata": {},
   "outputs": [],
   "source": [
    " "
   ]
  },
  {
   "cell_type": "code",
   "execution_count": 74,
   "id": "ffda8acc",
   "metadata": {},
   "outputs": [
    {
     "name": "stdout",
     "output_type": "stream",
     "text": [
      "[23, 'yes', 're', 67, 12]\n",
      "[23, 're', 67, 12]\n",
      "[23, 're', 67, 12, 55, 'tr', 'js', 87]\n",
      "[1, 23, 43, 45, 56]\n",
      "[87, 'js', 'tr', 55, 12, 67, 're', 23]\n",
      "[87, 'js', 'tr', 55, 12, 67, 're', 23]\n",
      "['js', 'tr']\n",
      "[23, 're', 67, 12, 55, 'tr', 'js', 87]\n",
      "[8]\n",
      "[8, 6, 4]\n"
     ]
    }
   ],
   "source": [
    "l=[23,\"yes\",\"re\",67]\n",
    "l2=[55,\"tr\",\"js\",87]\n",
    "l3=[23,43,1,45,56]\n",
    "l.append(12)\n",
    "print(l)\n",
    "l.remove(\"yes\")\n",
    "print(l)\n",
    " \n",
    "l.extend(l2)\n",
    "print(l)\n",
    "l3.sort()                            # sort is not possible because of hetrojeneses deta type\n",
    "print(l3)\n",
    "l.reverse()\n",
    "print(l)\n",
    "print(l[::])\n",
    "print(l[1:3])\n",
    "print(l[::-1])\n",
    "\n",
    "\n",
    "l=[1,2,3,4,5,6,7,8]\n",
    "print(l[32:-2:-1])\n",
    "print(l[8:1:-2])\n"
   ]
  },
  {
   "cell_type": "code",
   "execution_count": 78,
   "id": "d790fc00",
   "metadata": {},
   "outputs": [
    {
     "name": "stdout",
     "output_type": "stream",
     "text": [
      "hi\n",
      "2\n",
      "this is the list of duplicate element  ['hi', 2]\n"
     ]
    }
   ],
   "source": [
    "# Python – Find duplicates in List\n",
    "l=['hi','helow','hi',2,2,3,1,34]\n",
    "l2=[]\n",
    "for i in l:\n",
    "    c=l.count(i)\n",
    "    if c>1:\n",
    "        if i not in l2:\n",
    "            print(i)\n",
    "            l2.append(i)\n",
    "print(\"this is the list of duplicate element \",l2)"
   ]
  },
  {
   "cell_type": "code",
   "execution_count": 79,
   "id": "031bc30f",
   "metadata": {},
   "outputs": [
    {
     "name": "stdout",
     "output_type": "stream",
     "text": [
      "{1: 4, 2: 2, 3: 2, 'hi': 2, 'hellow': 2}\n"
     ]
    }
   ],
   "source": [
    "# Python – Count the occurrences of items in a List with a specific value\n",
    "l=[1,2,3,\"hi\",3,2,1,1,1,\"hi\",'hellow',\"hellow\"]\n",
    "d={}\n",
    "for i in l:\n",
    "   if i not in d:\n",
    "     c=l.count(i)\n",
    "     d[i]=c\n",
    "print(d)"
   ]
  },
  {
   "cell_type": "code",
   "execution_count": 82,
   "id": "5bf13f5b",
   "metadata": {},
   "outputs": [
    {
     "name": "stdout",
     "output_type": "stream",
     "text": [
      "103\n",
      "222\n",
      "304\n",
      "543\n"
     ]
    }
   ],
   "source": [
    "# Python – Find unique elements in List\n",
    "l=[101,102,102,103,101,222,304,543]\n",
    "for i in l:\n",
    "    c=l.count(i)\n",
    "    if c==1:\n",
    "        print(i)\n",
    "    "
   ]
  },
  {
   "cell_type": "code",
   "execution_count": 83,
   "id": "56b3e614",
   "metadata": {},
   "outputs": [
    {
     "name": "stdout",
     "output_type": "stream",
     "text": [
      "enter the elements4\n",
      "3\n"
     ]
    }
   ],
   "source": [
    "# Python – Find Index of Item in List\n",
    "list=[1,2,3,4,11]\n",
    "n=int(input(\"enter the elements\"))\n",
    "for i in range(len(list)):\n",
    "    if n==list[i]:\n",
    "        print(i)"
   ]
  },
  {
   "cell_type": "code",
   "execution_count": 93,
   "id": "3a281b3a",
   "metadata": {},
   "outputs": [
    {
     "name": "stdout",
     "output_type": "stream",
     "text": [
      "this is max elemets : 445\n"
     ]
    }
   ],
   "source": [
    "# Python – Example to Find the Largest Number in a List\n",
    "\n",
    "l=[23,445,56,32,12]\n",
    "# print(max(l))\n",
    "max=l[0]\n",
    "for i in l:\n",
    "    if max<i:\n",
    "        max=i\n",
    "print(\"this is max elemets :\",max)"
   ]
  },
  {
   "cell_type": "code",
   "execution_count": 94,
   "id": "d27c6101",
   "metadata": {},
   "outputs": [
    {
     "name": "stdout",
     "output_type": "stream",
     "text": [
      "enter the position2\n",
      "enter the elemet233\n",
      "[1, 2, '233', 5, 6, 7]\n"
     ]
    }
   ],
   "source": [
    "# Python – Insert Item at Specific Position in List\n",
    "l=[1,2,4,5,6,7]\n",
    "n=int(input(\"enter the position\"))\n",
    "n1=input(\"enter the elemet\")\n",
    "l[n]=n1\n",
    "print(l)"
   ]
  },
  {
   "cell_type": "code",
   "execution_count": 95,
   "id": "8b1deade",
   "metadata": {},
   "outputs": [
    {
     "name": "stdout",
     "output_type": "stream",
     "text": [
      "enter the position3\n",
      "enter the elemet 444\n",
      "[1, 2, 3, '444', 1]\n"
     ]
    }
   ],
   "source": [
    "# Python – Insert Item at Specific Position in List\n",
    "l=[1,2,3,2,1]\n",
    "l2=[]\n",
    "n=int(input(\"enter the position\"))\n",
    "e=input(\"enter the elemet \")\n",
    "for i in range(len(l)):\n",
    "    if i==n:\n",
    "        l2.append(e)\n",
    "\n",
    "    else:\n",
    "        l2.append(l[i])\n",
    "print(l2)"
   ]
  },
  {
   "cell_type": "code",
   "execution_count": 100,
   "id": "0acedcb7",
   "metadata": {},
   "outputs": [
    {
     "name": "stdout",
     "output_type": "stream",
     "text": [
      "[23, 42, 'show', 'hi', 'hello']\n"
     ]
    }
   ],
   "source": [
    "# Python – Insert Item at Specific Position in List\n",
    "l=[23,42,\"hi\",\"hello\"]\n",
    "l.insert(2,\"show\")\n",
    "print(l)"
   ]
  },
  {
   "cell_type": "code",
   "execution_count": 114,
   "id": "a6d7c069",
   "metadata": {},
   "outputs": [
    {
     "name": "stdout",
     "output_type": "stream",
     "text": [
      "[2, 9, 25, 335, 21]\n"
     ]
    }
   ],
   "source": [
    "l1=[1,3,5,67,7]\n",
    "l2=[2,3,5,5,3]\n",
    "# l=[x*y for x in l1 for y in l2]\n",
    "\n",
    "l=[l1[x]*l2[x] for x in range(len(l1))]\n",
    "\n",
    "print(l)"
   ]
  },
  {
   "cell_type": "code",
   "execution_count": 103,
   "id": "98a7275f",
   "metadata": {},
   "outputs": [
    {
     "name": "stdout",
     "output_type": "stream",
     "text": [
      "False\n",
      "True\n",
      "True\n"
     ]
    }
   ],
   "source": [
    "l=[1,2,3]\n",
    "l1=[2,1,3]\n",
    "l2=[1,2,3]\n",
    "print(l is l2)\n",
    "print(l==l2)\n",
    "print(l1>l)"
   ]
  },
  {
   "cell_type": "code",
   "execution_count": null,
   "id": "e7534315",
   "metadata": {},
   "outputs": [],
   "source": [
    "\n",
    "l=[1,2,3]\n",
    "l2=[4,5,6]\n",
    "for i in range(len(l2)):\n",
    "    "
   ]
  },
  {
   "cell_type": "code",
   "execution_count": 115,
   "id": "807b6280",
   "metadata": {},
   "outputs": [
    {
     "name": "stdout",
     "output_type": "stream",
     "text": [
      "['Ford', 'Volvo', 'bMW']\n"
     ]
    }
   ],
   "source": [
    "cars = ['Ford', 'bMW', 'Volvo']\n",
    "\n",
    "car=sorted(cars)\n",
    "\n",
    "print(car)\n"
   ]
  },
  {
   "cell_type": "code",
   "execution_count": 122,
   "id": "715092c6",
   "metadata": {},
   "outputs": [
    {
     "name": "stdout",
     "output_type": "stream",
     "text": [
      "[1, 2, 3, 8]\n"
     ]
    }
   ],
   "source": [
    "l=[8,1,2,3]\n",
    "l2=sorted(l)\n",
    "print(l2)"
   ]
  },
  {
   "cell_type": "code",
   "execution_count": 125,
   "id": "1609422e",
   "metadata": {},
   "outputs": [
    {
     "ename": "ValueError",
     "evalue": "12 is not in list",
     "output_type": "error",
     "traceback": [
      "\u001b[1;31m---------------------------------------------------------------------------\u001b[0m",
      "\u001b[1;31mValueError\u001b[0m                                Traceback (most recent call last)",
      "Input \u001b[1;32mIn [125]\u001b[0m, in \u001b[0;36m<cell line: 2>\u001b[1;34m()\u001b[0m\n\u001b[0;32m      1\u001b[0m l\u001b[38;5;241m=\u001b[39m[\u001b[38;5;241m1\u001b[39m,\u001b[38;5;241m2\u001b[39m,\u001b[38;5;241m3\u001b[39m]\n\u001b[1;32m----> 2\u001b[0m \u001b[38;5;28mprint\u001b[39m(\u001b[43ml\u001b[49m\u001b[38;5;241;43m.\u001b[39;49m\u001b[43mindex\u001b[49m\u001b[43m(\u001b[49m\u001b[38;5;241;43m12\u001b[39;49m\u001b[43m)\u001b[49m)\n",
      "\u001b[1;31mValueError\u001b[0m: 12 is not in list"
     ]
    }
   ],
   "source": [
    "l=[1,2,3]\n",
    "print(l.index())"
   ]
  },
  {
   "cell_type": "code",
   "execution_count": 129,
   "id": "13bf96dc",
   "metadata": {},
   "outputs": [
    {
     "name": "stdout",
     "output_type": "stream",
     "text": [
      "[1, 2, 3]\n",
      "[1, 2, 3]\n"
     ]
    }
   ],
   "source": [
    "# deep copy   by using copy() or slicing\n",
    "l=[1,2,3]\n",
    "l2=l.copy()\n",
    "l3=l[:]\n",
    "l.append(8)\n",
    "print(l2)\n",
    "print(l3)"
   ]
  },
  {
   "cell_type": "code",
   "execution_count": null,
   "id": "547bbb73",
   "metadata": {},
   "outputs": [],
   "source": []
  },
  {
   "cell_type": "code",
   "execution_count": 133,
   "id": "3420c7eb",
   "metadata": {},
   "outputs": [
    {
     "name": "stdout",
     "output_type": "stream",
     "text": [
      "[1, 2, 3, 7]\n"
     ]
    }
   ],
   "source": [
    "# shallow coopy by using = to operator\n",
    "l=[1,2,3]\n",
    "l2=l\n",
    "l.append(7)\n",
    "print(l2)"
   ]
  },
  {
   "cell_type": "code",
   "execution_count": 134,
   "id": "68be015f",
   "metadata": {},
   "outputs": [
    {
     "name": "stdout",
     "output_type": "stream",
     "text": [
      "[(1, 5), (1, 6), (1, 7), (1, 8), (2, 5), (2, 6), (2, 7), (2, 8), (3, 5), (3, 6), (3, 7), (3, 8), (4, 5), (4, 6), (4, 7), (4, 8)]\n"
     ]
    }
   ],
   "source": [
    "l1=[1,2,3,4]\n",
    "l2=[5,6,7,8]\n",
    "l3=[(x,y) for x in l1 for y in l2]\n",
    "print(l3)"
   ]
  },
  {
   "cell_type": "code",
   "execution_count": 135,
   "id": "44abb157",
   "metadata": {},
   "outputs": [
    {
     "name": "stdout",
     "output_type": "stream",
     "text": [
      "[5, 12, 21, 32]\n"
     ]
    }
   ],
   "source": [
    "l1=[1,2,3,4]\n",
    "l2=[5,6,7,8]\n",
    "l3=[l1[x]*l2[x] for x in range(len(l1))]\n",
    "print(l3)"
   ]
  },
  {
   "cell_type": "code",
   "execution_count": 138,
   "id": "6af95b20",
   "metadata": {},
   "outputs": [
    {
     "name": "stdout",
     "output_type": "stream",
     "text": [
      "[False, False, False, False]\n"
     ]
    }
   ],
   "source": [
    "l1=[1,2,3,4]\n",
    "l2=[5,6,7,8]\n",
    "l3=[l1[x]==l2[x] for x in range(len(l1))]\n",
    "print(l3)"
   ]
  },
  {
   "cell_type": "code",
   "execution_count": null,
   "id": "2959c5ef",
   "metadata": {},
   "outputs": [],
   "source": [
    "list=[list(),id(),print(),type(),is,is not, in ,not in,len(),append(),remove(),insert(),extend(),copy(),clear(),index(),pop()\n",
    "     reverse(),sort(),sort(reverse=True)]"
   ]
  },
  {
   "cell_type": "code",
   "execution_count": 139,
   "id": "83aa138f",
   "metadata": {},
   "outputs": [
    {
     "name": "stdout",
     "output_type": "stream",
     "text": [
      "[1, 2, 3, 4, 5]\n"
     ]
    }
   ],
   "source": [
    "# new list except last elements\n",
    "solist=[1,2,3,4,5,6]\n",
    "new_list=solist[:-1]\n",
    "solist.pop()\n",
    "print(new_list)"
   ]
  },
  {
   "cell_type": "code",
   "execution_count": null,
   "id": "b32f736c",
   "metadata": {},
   "outputs": [],
   "source": [
    " "
   ]
  },
  {
   "cell_type": "code",
   "execution_count": 150,
   "id": "c06b9b27",
   "metadata": {},
   "outputs": [
    {
     "name": "stdout",
     "output_type": "stream",
     "text": [
      "{'a': 'apple', 'b': 'banana', 'c': 'cat'}\n"
     ]
    }
   ],
   "source": [
    "\n",
    "l=['a','apple','b','banana','c','cat']\n",
    "dict={l[x]:l[x+1] for x in range(0,len(l),2)}\n",
    "print(dict)"
   ]
  },
  {
   "cell_type": "code",
   "execution_count": 152,
   "id": "23e08d2c",
   "metadata": {},
   "outputs": [
    {
     "name": "stdout",
     "output_type": "stream",
     "text": [
      "type of t1 <class 'tuple'>\n"
     ]
    },
    {
     "ename": "TypeError",
     "evalue": "'list' object is not callable",
     "output_type": "error",
     "traceback": [
      "\u001b[1;31m---------------------------------------------------------------------------\u001b[0m",
      "\u001b[1;31mTypeError\u001b[0m                                 Traceback (most recent call last)",
      "Input \u001b[1;32mIn [152]\u001b[0m, in \u001b[0;36m<cell line: 3>\u001b[1;34m()\u001b[0m\n\u001b[0;32m      1\u001b[0m t1 \u001b[38;5;241m=\u001b[39m (\u001b[38;5;241m1\u001b[39m,\u001b[38;5;241m2\u001b[39m,\u001b[38;5;241m3\u001b[39m)\n\u001b[0;32m      2\u001b[0m \u001b[38;5;28mprint\u001b[39m(\u001b[38;5;124m\"\u001b[39m\u001b[38;5;124mtype of t1\u001b[39m\u001b[38;5;124m\"\u001b[39m,\u001b[38;5;28mtype\u001b[39m(t1))\n\u001b[1;32m----> 3\u001b[0m l1 \u001b[38;5;241m=\u001b[39m \u001b[38;5;28;43mlist\u001b[39;49m\u001b[43m(\u001b[49m\u001b[43mt1\u001b[49m\u001b[43m)\u001b[49m\n\u001b[0;32m      4\u001b[0m \u001b[38;5;28mprint\u001b[39m(l1)\n\u001b[0;32m      5\u001b[0m \u001b[38;5;28mprint\u001b[39m(\u001b[38;5;124m\"\u001b[39m\u001b[38;5;124mtype of l1 \u001b[39m\u001b[38;5;124m\"\u001b[39m,\u001b[38;5;28mtype\u001b[39m(l1))\n",
      "\u001b[1;31mTypeError\u001b[0m: 'list' object is not callable"
     ]
    }
   ],
   "source": [
    "t1 = (1,2,3)\n",
    "print(\"type of t1\",type(t1))\n",
    "l1 = list(t1)\n",
    "print(l1)\n",
    "print(\"type of l1 \",type(l1))"
   ]
  },
  {
   "cell_type": "code",
   "execution_count": 155,
   "id": "814edbea",
   "metadata": {},
   "outputs": [
    {
     "name": "stdout",
     "output_type": "stream",
     "text": [
      "<class 'tuple'>\n",
      "<class 'tuple'>\n"
     ]
    }
   ],
   "source": [
    "t=(10,)\n",
    "t1=12,\n",
    "print(type(t))\n",
    "print(type(t1))"
   ]
  },
  {
   "cell_type": "code",
   "execution_count": 5,
   "id": "f913cf81",
   "metadata": {},
   "outputs": [
    {
     "name": "stdout",
     "output_type": "stream",
     "text": [
      "[{1: 233}, 45, {1, 2, 3}, 'kishor']\n"
     ]
    }
   ],
   "source": [
    "l=[{1:233},45,{1,2,3},\"kishor\"]\n",
    "print(l)"
   ]
  },
  {
   "cell_type": "code",
   "execution_count": 8,
   "id": "b4960c2d",
   "metadata": {},
   "outputs": [
    {
     "ename": "NameError",
     "evalue": "name 'i' is not defined",
     "output_type": "error",
     "traceback": [
      "\u001b[1;31m---------------------------------------------------------------------------\u001b[0m",
      "\u001b[1;31mNameError\u001b[0m                                 Traceback (most recent call last)",
      "\u001b[1;32mc:\\Users\\Kishor Kore\\Desktop\\deep\\.ipynb_checkpoints\\Untitled-checkpoint.ipynb Cell 41'\u001b[0m in \u001b[0;36m<cell line: 11>\u001b[1;34m()\u001b[0m\n\u001b[0;32m      <a href='vscode-notebook-cell:/c%3A/Users/Kishor%20Kore/Desktop/deep/.ipynb_checkpoints/Untitled-checkpoint.ipynb#ch0000040?line=7'>8</a>\u001b[0m L \u001b[39m=\u001b[39m \u001b[39mlist\u001b[39m(\u001b[39mrange\u001b[39m(\u001b[39m-\u001b[39m\u001b[39m4\u001b[39m, \u001b[39m4\u001b[39m))\n\u001b[0;32m     <a href='vscode-notebook-cell:/c%3A/Users/Kishor%20Kore/Desktop/deep/.ipynb_checkpoints/Untitled-checkpoint.ipynb#ch0000040?line=9'>10</a>\u001b[0m \u001b[39m# List of an iterable’s items, list of successive integers\u001b[39;00m\n\u001b[1;32m---> <a href='vscode-notebook-cell:/c%3A/Users/Kishor%20Kore/Desktop/deep/.ipynb_checkpoints/Untitled-checkpoint.ipynb#ch0000040?line=10'>11</a>\u001b[0m L[i]\n\u001b[0;32m     <a href='vscode-notebook-cell:/c%3A/Users/Kishor%20Kore/Desktop/deep/.ipynb_checkpoints/Untitled-checkpoint.ipynb#ch0000040?line=11'>12</a>\u001b[0m L[i][j]\n\u001b[0;32m     <a href='vscode-notebook-cell:/c%3A/Users/Kishor%20Kore/Desktop/deep/.ipynb_checkpoints/Untitled-checkpoint.ipynb#ch0000040?line=12'>13</a>\u001b[0m L[i:j]\n",
      "\u001b[1;31mNameError\u001b[0m: name 'i' is not defined"
     ]
    }
   ],
   "source": [
    "L = [] \n",
    "# An empty list\n",
    "L = [123, 'abc', 1.23, {}] \n",
    "# Four items: indexes 0..3\n",
    "L = ['Bob', 40.0, ['dev', 'mgr']]\n",
    "#  Nested sublists\n",
    "L = list('spam')\n",
    "L = list(range(-4, 4))\n",
    "\n",
    "# List of an iterable’s items, list of successive integers\n",
    "L[i]\n",
    "L[i][j]\n",
    "L[i:j]\n",
    "len(L)\n",
    "\n",
    "# Index, index of index, slice, length\n",
    "\n",
    "# L1 + L2 Concatenate, repea# peration Interpretation\n",
    "\n",
    "L * 3\n",
    "for x in L: print(x)\n",
    "3 in L\n",
    "# Iteration, membership\n",
    "\n",
    "L.append(4)\n",
    "L.extend([5,6,7])\n",
    "L.insert(i, X)\n",
    "\n",
    "# Methods: growing\n",
    "\n",
    "L.index(X)\n",
    "L.count(X)\n",
    "\n",
    "# Methods: searching\n",
    "\n",
    "L.sort()\n",
    "L.reverse()\n",
    "L.copy()\n",
    "L.clear()\n",
    "# Methods: sorting, reversing,\n",
    "# copying (3.3+), clearing (3.3+)\n",
    "\n",
    "L.pop(i)\n",
    "L.remove(X)\n",
    "del L[i]\n",
    "del L[i:j]\n",
    "L[i:j] = []\n",
    "\n",
    "# Methods, statements: shrinking\n",
    "\n",
    "L[i] = 3\n",
    "L[i:j] = [4,5,6]\n",
    "\n",
    "# Index assignment, slice assignment\n",
    "L = [x**2 for x in range(5)]\n",
    "list(map(ord, 'spam'))\n"
   ]
  },
  {
   "cell_type": "code",
   "execution_count": 7,
   "id": "2e4f461c",
   "metadata": {},
   "outputs": [
    {
     "name": "stdout",
     "output_type": "stream",
     "text": [
      "<class 'list'>\n",
      "(10, 20, 30)\n",
      "<class 'tuple'>\n"
     ]
    }
   ],
   "source": [
    "l = [10,20,30]\n",
    "print(type(l))\n",
    "t = tuple(l)\n",
    "print(t)\n",
    "print(type(t))"
   ]
  }
 ],
 "metadata": {
  "interpreter": {
   "hash": "22eb5e2c22c238faa93ba91a82f6814d9ac5291abf168a8545504b183eda394b"
  },
  "kernelspec": {
   "display_name": "Python 3 (ipykernel)",
   "language": "python",
   "name": "python3"
  },
  "language_info": {
   "codemirror_mode": {
    "name": "ipython",
    "version": 3
   },
   "file_extension": ".py",
   "mimetype": "text/x-python",
   "name": "python",
   "nbconvert_exporter": "python",
   "pygments_lexer": "ipython3",
   "version": "3.10.4"
  }
 },
 "nbformat": 4,
 "nbformat_minor": 5
}
