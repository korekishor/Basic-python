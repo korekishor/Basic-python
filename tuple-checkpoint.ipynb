{
 "cells": [
  {
   "cell_type": "code",
   "execution_count": 3,
   "metadata": {},
   "outputs": [
    {
     "name": "stdout",
     "output_type": "stream",
     "text": [
      "('kishor', 23, (1, 2, 3), {1, 2, 3}, {90: 34, 'a': 'akshay'})\n"
     ]
    }
   ],
   "source": [
    "tuple=(\"kishor\",23,(1,2,3),{1,2,3},{90:34,'a':\"akshay\"})\n",
    "print(tuple)"
   ]
  },
  {
   "cell_type": "code",
   "execution_count": 7,
   "id": "cf6f7fbb",
   "metadata": {},
   "outputs": [
    {
     "name": "stdout",
     "output_type": "stream",
     "text": [
      "[1, 2, 3]\n",
      "{1, 2, 3}\n"
     ]
    },
    {
     "ename": "TypeError",
     "evalue": "'tuple' object is not callable",
     "output_type": "error",
     "traceback": [
      "\u001b[1;31m---------------------------------------------------------------------------\u001b[0m",
      "\u001b[1;31mTypeError\u001b[0m                                 Traceback (most recent call last)",
      "\u001b[1;32mc:\\Users\\Kishor Kore\\Desktop\\deep\\.ipynb_checkpoints\\tuple-checkpoint.ipynb Cell 2'\u001b[0m in \u001b[0;36m<cell line: 6>\u001b[1;34m()\u001b[0m\n\u001b[0;32m      <a href='vscode-notebook-cell:/c%3A/Users/Kishor%20Kore/Desktop/deep/.ipynb_checkpoints/tuple-checkpoint.ipynb#ch0000001?line=3'>4</a>\u001b[0m s\u001b[39m=\u001b[39m\u001b[39mset\u001b[39m(t)\n\u001b[0;32m      <a href='vscode-notebook-cell:/c%3A/Users/Kishor%20Kore/Desktop/deep/.ipynb_checkpoints/tuple-checkpoint.ipynb#ch0000001?line=4'>5</a>\u001b[0m \u001b[39mprint\u001b[39m(s)\n\u001b[1;32m----> <a href='vscode-notebook-cell:/c%3A/Users/Kishor%20Kore/Desktop/deep/.ipynb_checkpoints/tuple-checkpoint.ipynb#ch0000001?line=5'>6</a>\u001b[0m d\u001b[39m=\u001b[39m\u001b[39mtuple\u001b[39;49m(t)\n\u001b[0;32m      <a href='vscode-notebook-cell:/c%3A/Users/Kishor%20Kore/Desktop/deep/.ipynb_checkpoints/tuple-checkpoint.ipynb#ch0000001?line=6'>7</a>\u001b[0m \u001b[39mprint\u001b[39m(d)\n",
      "\u001b[1;31mTypeError\u001b[0m: 'tuple' object is not callable"
     ]
    }
   ],
   "source": [
    "t=(1,2,3)\n",
    "l=list(t)\n",
    "print(l)\n",
    "s=set(t)\n",
    "print(s)\n",
    "d=dict(t)\n",
    "print(d)"
   ]
  },
  {
   "cell_type": "code",
   "execution_count": 12,
   "id": "65900621",
   "metadata": {},
   "outputs": [
    {
     "name": "stdout",
     "output_type": "stream",
     "text": [
      "{1: 2, 3: 4}\n"
     ]
    }
   ],
   "source": [
    "t=(1,2,3,4)\n",
    "d={t[x]:t[x+1] for x in range(0,len(t),2)}\n",
    "print(d)"
   ]
  },
  {
   "cell_type": "code",
   "execution_count": 14,
   "id": "4a8eab71",
   "metadata": {},
   "outputs": [
    {
     "name": "stdout",
     "output_type": "stream",
     "text": [
      "{1, 2, 3}\n"
     ]
    },
    {
     "ename": "TypeError",
     "evalue": "'tuple' object is not callable",
     "output_type": "error",
     "traceback": [
      "\u001b[1;31m---------------------------------------------------------------------------\u001b[0m",
      "\u001b[1;31mTypeError\u001b[0m                                 Traceback (most recent call last)",
      "\u001b[1;32mc:\\Users\\Kishor Kore\\Desktop\\deep\\.ipynb_checkpoints\\tuple-checkpoint.ipynb Cell 4'\u001b[0m in \u001b[0;36m<cell line: 4>\u001b[1;34m()\u001b[0m\n\u001b[0;32m      <a href='vscode-notebook-cell:/c%3A/Users/Kishor%20Kore/Desktop/deep/.ipynb_checkpoints/tuple-checkpoint.ipynb#ch0000003?line=1'>2</a>\u001b[0m s\u001b[39m=\u001b[39m\u001b[39mset\u001b[39m(\u001b[39mlist\u001b[39m)\n\u001b[0;32m      <a href='vscode-notebook-cell:/c%3A/Users/Kishor%20Kore/Desktop/deep/.ipynb_checkpoints/tuple-checkpoint.ipynb#ch0000003?line=2'>3</a>\u001b[0m \u001b[39mprint\u001b[39m(s)\n\u001b[1;32m----> <a href='vscode-notebook-cell:/c%3A/Users/Kishor%20Kore/Desktop/deep/.ipynb_checkpoints/tuple-checkpoint.ipynb#ch0000003?line=3'>4</a>\u001b[0m t\u001b[39m=\u001b[39m\u001b[39mtuple\u001b[39;49m(\u001b[39mlist\u001b[39;49m)\n\u001b[0;32m      <a href='vscode-notebook-cell:/c%3A/Users/Kishor%20Kore/Desktop/deep/.ipynb_checkpoints/tuple-checkpoint.ipynb#ch0000003?line=4'>5</a>\u001b[0m \u001b[39mprint\u001b[39m(t)\n\u001b[0;32m      <a href='vscode-notebook-cell:/c%3A/Users/Kishor%20Kore/Desktop/deep/.ipynb_checkpoints/tuple-checkpoint.ipynb#ch0000003?line=5'>6</a>\u001b[0m d\u001b[39m=\u001b[39m\u001b[39mdict\u001b[39m(\u001b[39mlist\u001b[39m)\n",
      "\u001b[1;31mTypeError\u001b[0m: 'tuple' object is not callable"
     ]
    }
   ],
   "source": [
    "list=[1,2,3]\n",
    "s=set(list)\n",
    "print(s)\n",
    "t=tuple(list)\n",
    "print(t)\n",
    "d=dict(list)\n",
    "print(d)\n",
    "\n"
   ]
  },
  {
   "cell_type": "code",
   "execution_count": 15,
   "id": "99aa8b6f",
   "metadata": {},
   "outputs": [
    {
     "ename": "TypeError",
     "evalue": "'tuple' object is not callable",
     "output_type": "error",
     "traceback": [
      "\u001b[1;31m---------------------------------------------------------------------------\u001b[0m",
      "\u001b[1;31mTypeError\u001b[0m                                 Traceback (most recent call last)",
      "\u001b[1;32mc:\\Users\\Kishor Kore\\Desktop\\deep\\.ipynb_checkpoints\\tuple-checkpoint.ipynb Cell 5'\u001b[0m in \u001b[0;36m<cell line: 6>\u001b[1;34m()\u001b[0m\n\u001b[0;32m      <a href='vscode-notebook-cell:/c%3A/Users/Kishor%20Kore/Desktop/deep/.ipynb_checkpoints/tuple-checkpoint.ipynb#ch0000004?line=3'>4</a>\u001b[0m \u001b[39m# Driver function\u001b[39;00m\n\u001b[0;32m      <a href='vscode-notebook-cell:/c%3A/Users/Kishor%20Kore/Desktop/deep/.ipynb_checkpoints/tuple-checkpoint.ipynb#ch0000004?line=4'>5</a>\u001b[0m \u001b[39mlist\u001b[39m \u001b[39m=\u001b[39m [\u001b[39m1\u001b[39m, \u001b[39m2\u001b[39m, \u001b[39m3\u001b[39m, \u001b[39m4\u001b[39m]\n\u001b[1;32m----> <a href='vscode-notebook-cell:/c%3A/Users/Kishor%20Kore/Desktop/deep/.ipynb_checkpoints/tuple-checkpoint.ipynb#ch0000004?line=5'>6</a>\u001b[0m \u001b[39mprint\u001b[39m(convert(\u001b[39mlist\u001b[39;49m))\n",
      "\u001b[1;32mc:\\Users\\Kishor Kore\\Desktop\\deep\\.ipynb_checkpoints\\tuple-checkpoint.ipynb Cell 5'\u001b[0m in \u001b[0;36mconvert\u001b[1;34m(list)\u001b[0m\n\u001b[0;32m      <a href='vscode-notebook-cell:/c%3A/Users/Kishor%20Kore/Desktop/deep/.ipynb_checkpoints/tuple-checkpoint.ipynb#ch0000004?line=0'>1</a>\u001b[0m \u001b[39mdef\u001b[39;00m \u001b[39mconvert\u001b[39m(\u001b[39mlist\u001b[39m):\n\u001b[1;32m----> <a href='vscode-notebook-cell:/c%3A/Users/Kishor%20Kore/Desktop/deep/.ipynb_checkpoints/tuple-checkpoint.ipynb#ch0000004?line=1'>2</a>\u001b[0m     \u001b[39mreturn\u001b[39;00m \u001b[39mtuple\u001b[39;49m(\u001b[39mlist\u001b[39;49m)\n",
      "\u001b[1;31mTypeError\u001b[0m: 'tuple' object is not callable"
     ]
    }
   ],
   "source": [
    "def convert(list):\n",
    "    return tuple(list)\n",
    "  \n",
    "# Driver function\n",
    "list = [1, 2, 3, 4]\n",
    "print(convert(list))"
   ]
  },
  {
   "cell_type": "markdown",
   "id": "89e2224c",
   "metadata": {},
   "source": [
    "can we convert list into tuple"
   ]
  },
  {
   "cell_type": "code",
   "execution_count": null,
   "id": "45752a66",
   "metadata": {},
   "outputs": [],
   "source": []
  },
  {
   "cell_type": "markdown",
   "id": "bdbc9caf",
   "metadata": {},
   "source": []
  },
  {
   "cell_type": "code",
   "execution_count": null,
   "id": "543dfeab",
   "metadata": {},
   "outputs": [],
   "source": []
  },
  {
   "cell_type": "code",
   "execution_count": null,
   "id": "fbdd9200",
   "metadata": {},
   "outputs": [],
   "source": []
  },
  {
   "cell_type": "code",
   "execution_count": null,
   "id": "8b31919d",
   "metadata": {},
   "outputs": [],
   "source": []
  },
  {
   "cell_type": "code",
   "execution_count": null,
   "id": "e04c91c7",
   "metadata": {},
   "outputs": [],
   "source": []
  },
  {
   "cell_type": "code",
   "execution_count": null,
   "id": "336f0c0b",
   "metadata": {},
   "outputs": [],
   "source": []
  },
  {
   "cell_type": "code",
   "execution_count": null,
   "id": "479b9fd8",
   "metadata": {},
   "outputs": [],
   "source": []
  }
 ],
 "metadata": {
  "interpreter": {
   "hash": "22eb5e2c22c238faa93ba91a82f6814d9ac5291abf168a8545504b183eda394b"
  },
  "kernelspec": {
   "display_name": "Python 3.10.4 64-bit",
   "language": "python",
   "name": "python3"
  },
  "language_info": {
   "codemirror_mode": {
    "name": "ipython",
    "version": 3
   },
   "file_extension": ".py",
   "mimetype": "text/x-python",
   "name": "python",
   "nbconvert_exporter": "python",
   "pygments_lexer": "ipython3",
   "version": "3.10.4"
  }
 },
 "nbformat": 4,
 "nbformat_minor": 5
}
