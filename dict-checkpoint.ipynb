{
 "cells": [
  {
   "cell_type": "code",
   "execution_count": null,
   "metadata": {},
   "outputs": [],
   "source": []
  },
  {
   "cell_type": "code",
   "execution_count": 1,
   "id": "312293f0",
   "metadata": {},
   "outputs": [
    {
     "ename": "SyntaxError",
     "evalue": "invalid decimal literal (3794239848.py, line 44)",
     "output_type": "error",
     "traceback": [
      "\u001b[1;36m  Input \u001b[1;32mIn [1]\u001b[1;36m\u001b[0m\n\u001b[1;33m    Dictionary views (Python 3.X)\u001b[0m\n\u001b[1;37m                              ^\u001b[0m\n\u001b[1;31mSyntaxError\u001b[0m\u001b[1;31m:\u001b[0m invalid decimal literal\n"
     ]
    }
   ],
   "source": [
    "        #Operation Interpretation\n",
    "D = {}      #Empty dictionary\n",
    "D = {'name': 'Bob', 'age': 40}      #Two-item dictionary\n",
    "E = {'cto': {'name': 'Bob', 'age': 40}}         #Nesting\n",
    "D = dict(name='Bob', age=40)\n",
    "D = dict([('name', 'Bob'), ('age', 40)])\n",
    "keystuplw,valueslist=(1,2,3,4),['a','b','c','d']\n",
    "D = dict(zip(keystuplw, valueslist))\n",
    "\n",
    "D = dict.fromkeys(['name', 'age'])\n",
    "        #Alternative construction techniques:\n",
    "        #keywords, key/value pairs, zipped key/value pairs, key lists\n",
    "D['name']\n",
    "E['cto']['age']\n",
    "        #Indexing by key\n",
    "'age' in D      #Membership: key present test\n",
    "D.keys()\n",
    "D.values()\n",
    "D.items()\n",
    "D.copy()\n",
    "D.clear()\n",
    "D.update(D2)\n",
    "D.get(key, default?)\n",
    "\n",
    "D.pop(key, default?)\n",
    "D.setdefault(key, default?)\n",
    "D.popitem()\n",
    "Methods: all keys,\n",
    "\n",
    "all values,\n",
    "all key+value tuples,\n",
    "copy (top-level),\n",
    "clear (remove all items),\n",
    "merge by keys,\n",
    "fetch by key, if absent default (or None),\n",
    "remove by key, if absent default (or error)\n",
    "fetch by key, if absent set default (or None),\n",
    "remove/return any (key, value) pair; etc.\n",
    "len(D) Length: number of stored entries\n",
    "D[key] = 42 Adding/changing keys\n",
    "del D[key] Deleting entries by key\n",
    "list(D.keys())\n",
    "D1.keys() & D2.keys()\n",
    "Dictionary views (Python 3.X)\n",
    "D.viewkeys(), D.viewvalues() Dictionary views (Python 2.7)\n",
    "D = {x: x*2 for x in range(10)} Dictionary comprehensions (Python 3.X, 2.7)\n",
    "Dictionaries in Action\n",
    "As Table 8-2 suggests, d        #"
   ]
  },
  {
   "cell_type": "code",
   "execution_count": 3,
   "id": "29946722",
   "metadata": {},
   "outputs": [
    {
     "name": "stdout",
     "output_type": "stream",
     "text": [
      "{'name': 'Bob', 'age': 40}\n"
     ]
    }
   ],
   "source": [
    "D = dict([('name', 'Bob'), ('age', 40)])\n",
    "print(D)"
   ]
  },
  {
   "cell_type": "code",
   "execution_count": 4,
   "id": "4056b5dc",
   "metadata": {},
   "outputs": [
    {
     "data": {
      "text/plain": [
       "dict_items([(1, 2), (2, 3)])"
      ]
     },
     "execution_count": 4,
     "metadata": {},
     "output_type": "execute_result"
    }
   ],
   "source": [
    "d = {1:2,2:3}\n",
    "d.items()"
   ]
  },
  {
   "cell_type": "code",
   "execution_count": 7,
   "id": "13233207",
   "metadata": {},
   "outputs": [
    {
     "name": "stdout",
     "output_type": "stream",
     "text": [
      "OrderedDict([('rajnish', '9'), ('ravi', '10'), ('sanjeev', '15'), ('suraj', '32'), ('yash', '2')])\n"
     ]
    }
   ],
   "source": [
    "# from collections import OrderedDict\n",
    " \n",
    "dict = {'ravi':'10','rajnish':'9','sanjeev':'15','yash':'2','suraj':'32'}\n",
    "dict1 = OrderedDict(sorted(dict.items()))\n",
    "print(dict1)\n",
    "\n"
   ]
  },
  {
   "cell_type": "code",
   "execution_count": 19,
   "id": "a16cb4f6",
   "metadata": {},
   "outputs": [
    {
     "name": "stdout",
     "output_type": "stream",
     "text": [
      "0\n",
      "3\n",
      "1\n",
      "[1, 2, 3]\n"
     ]
    },
    {
     "ename": "TypeError",
     "evalue": "'dict' object is not callable",
     "output_type": "error",
     "traceback": [
      "\u001b[1;31m---------------------------------------------------------------------------\u001b[0m",
      "\u001b[1;31mTypeError\u001b[0m                                 Traceback (most recent call last)",
      "\u001b[1;32mc:\\Users\\Kishor Kore\\Desktop\\deep\\.ipynb_checkpoints\\dict-checkpoint.ipynb Cell 6'\u001b[0m in \u001b[0;36m<cell line: 7>\u001b[1;34m()\u001b[0m\n\u001b[0;32m      <a href='vscode-notebook-cell:/c%3A/Users/Kishor%20Kore/Desktop/deep/.ipynb_checkpoints/dict-checkpoint.ipynb#ch0000001?line=4'>5</a>\u001b[0m \u001b[39mprint\u001b[39m(\u001b[39mmin\u001b[39m(d))\n\u001b[0;32m      <a href='vscode-notebook-cell:/c%3A/Users/Kishor%20Kore/Desktop/deep/.ipynb_checkpoints/dict-checkpoint.ipynb#ch0000001?line=5'>6</a>\u001b[0m \u001b[39mprint\u001b[39m(\u001b[39msorted\u001b[39m(d))\n\u001b[1;32m----> <a href='vscode-notebook-cell:/c%3A/Users/Kishor%20Kore/Desktop/deep/.ipynb_checkpoints/dict-checkpoint.ipynb#ch0000001?line=6'>7</a>\u001b[0m d\u001b[39m=\u001b[39m\u001b[39mdict\u001b[39;49m(name\u001b[39m=\u001b[39;49m\u001b[39m'\u001b[39;49m\u001b[39mBob\u001b[39;49m\u001b[39m'\u001b[39;49m, age\u001b[39m=\u001b[39;49m\u001b[39m40\u001b[39;49m)\n\u001b[0;32m      <a href='vscode-notebook-cell:/c%3A/Users/Kishor%20Kore/Desktop/deep/.ipynb_checkpoints/dict-checkpoint.ipynb#ch0000001?line=8'>9</a>\u001b[0m \u001b[39mprint\u001b[39m(d)\n",
      "\u001b[1;31mTypeError\u001b[0m: 'dict' object is not callable"
     ]
    }
   ],
   "source": [
    "# by using sorted function iwe  can sort the keys\n",
    "d={}\n",
    "print(len(d))\n",
    "d={1:2,3:34,2:34}\n",
    "print(max(d))\n",
    "print(min(d))\n",
    "print(sorted(d))\n",
    "#\n",
    "\n",
    "print(d)"
   ]
  },
  {
   "cell_type": "code",
   "execution_count": 42,
   "id": "f3835b20",
   "metadata": {},
   "outputs": [
    {
     "ename": "TypeError",
     "evalue": "'dict' object is not callable",
     "output_type": "error",
     "traceback": [
      "\u001b[1;31m---------------------------------------------------------------------------\u001b[0m",
      "\u001b[1;31mTypeError\u001b[0m                                 Traceback (most recent call last)",
      "\u001b[1;32mc:\\Users\\Kishor Kore\\Desktop\\deep\\.ipynb_checkpoints\\dict-checkpoint.ipynb Cell 7'\u001b[0m in \u001b[0;36m<cell line: 1>\u001b[1;34m()\u001b[0m\n\u001b[1;32m----> <a href='vscode-notebook-cell:/c%3A/Users/Kishor%20Kore/Desktop/deep/.ipynb_checkpoints/dict-checkpoint.ipynb#ch0000007?line=0'>1</a>\u001b[0m d\u001b[39m=\u001b[39m\u001b[39mdict\u001b[39;49m((\u001b[39m'\u001b[39;49m\u001b[39mname\u001b[39;49m\u001b[39m'\u001b[39;49m, \u001b[39m'\u001b[39;49m\u001b[39mBob\u001b[39;49m\u001b[39m'\u001b[39;49m))\n\u001b[0;32m      <a href='vscode-notebook-cell:/c%3A/Users/Kishor%20Kore/Desktop/deep/.ipynb_checkpoints/dict-checkpoint.ipynb#ch0000007?line=1'>2</a>\u001b[0m \u001b[39mprint\u001b[39m(d)\n",
      "\u001b[1;31mTypeError\u001b[0m: 'dict' object is not callable"
     ]
    }
   ],
   "source": [
    "d=dict(('name', 'Bob'))\n",
    "print(d)"
   ]
  },
  {
   "cell_type": "code",
   "execution_count": 29,
   "id": "c8e77b26",
   "metadata": {},
   "outputs": [
    {
     "name": "stdout",
     "output_type": "stream",
     "text": [
      "<zip object at 0x0000028FEDCB2A00>\n",
      "([1, 11], 'a')\n",
      "([2, 22], 'b')\n",
      "([3, 33], 'c')\n",
      "([4, 44], 'd')\n"
     ]
    }
   ],
   "source": [
    "list=[[1,11],[2,22],[3,33],[4,44]]\n",
    "tuple=('a','b','c','d')\n",
    "d=zip(list,tuple)\n",
    "print(d)\n",
    "for i in d:\n",
    "    print(i)"
   ]
  },
  {
   "cell_type": "code",
   "execution_count": 37,
   "id": "06ca780e",
   "metadata": {},
   "outputs": [
    {
     "name": "stdout",
     "output_type": "stream",
     "text": [
      "none\n"
     ]
    }
   ],
   "source": [
    "dict = {'ravi':'10','rajnish':'9','sanjeev':'15','yash':'2','suraj':'32'}\n",
    "# print(dict.items())\n",
    "print(dict.get(\"rav\",\"none\"))\n",
    "# print if key possible then show absence\n"
   ]
  },
  {
   "cell_type": "code",
   "execution_count": 40,
   "id": "2382309b",
   "metadata": {},
   "outputs": [
    {
     "name": "stdout",
     "output_type": "stream",
     "text": [
      "key not found\n",
      "{'a': 'amar', 'b': 'bharati', 'c': 'cat', 'd': 'digger', 1: 22}\n"
     ]
    }
   ],
   "source": [
    "# pop () if key else default\n",
    "# \n",
    "d={'a':\"amar\",'b':\"bharati\",\"c\":\"cat\",'d':\"digger\",1:22}\n",
    "print(d.pop('g','key not found'))\n",
    "print(d)\n",
    "\n",
    "\n"
   ]
  },
  {
   "cell_type": "code",
   "execution_count": null,
   "id": "914fbf08",
   "metadata": {},
   "outputs": [],
   "source": [
    "\n",
    "\n"
   ]
  },
  {
   "cell_type": "code",
   "execution_count": null,
   "id": "3e989c18",
   "metadata": {},
   "outputs": [],
   "source": [
    "\n"
   ]
  },
  {
   "cell_type": "code",
   "execution_count": 22,
   "id": "5b1fa1fb",
   "metadata": {},
   "outputs": [
    {
     "data": {
      "text/plain": [
       "dict_items([('cto', {'name': 'Bob', 'age': 40})])"
      ]
     },
     "execution_count": 22,
     "metadata": {},
     "output_type": "execute_result"
    }
   ],
   "source": [
    "e = {'cto': {'name': 'Bob', 'age': 40}} \n",
    "e.items()"
   ]
  }
 ],
 "metadata": {
  "interpreter": {
   "hash": "22eb5e2c22c238faa93ba91a82f6814d9ac5291abf168a8545504b183eda394b"
  },
  "kernelspec": {
   "display_name": "Python 3.10.4 64-bit",
   "language": "python",
   "name": "python3"
  },
  "language_info": {
   "codemirror_mode": {
    "name": "ipython",
    "version": 3
   },
   "file_extension": ".py",
   "mimetype": "text/x-python",
   "name": "python",
   "nbconvert_exporter": "python",
   "pygments_lexer": "ipython3",
   "version": "3.10.4"
  }
 },
 "nbformat": 4,
 "nbformat_minor": 5
}
