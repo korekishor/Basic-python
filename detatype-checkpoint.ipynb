{
 "cells": [
  {
   "cell_type": "code",
   "execution_count": 2,
   "metadata": {},
   "outputs": [
    {
     "name": "stdout",
     "output_type": "stream",
     "text": [
      "<class 'set'>\n",
      "2034305858272\n"
     ]
    }
   ],
   "source": [
    "water the plant\n",
    "\n",
    "hi  \n",
    "water the plant\n",
    "\n",
    "hi  \n",
    "water the plant\n",
    "\n",
    "hi  \n",
    "water the plant\n",
    "\n",
    "hi  \n",
    "water the plant\n",
    "\n",
    "hi  \n",
    "water the plant\n",
    "\n",
    "hi  \n",
    "water the plant\n",
    "\n",
    "hi  \n",
    "water the plant\n",
    "\n",
    "hi  \n",
    "water the plant\n",
    "\n",
    "hi  \n",
    "water the plant\n",
    "\n",
    "hi  \n",
    "water the plant\n",
    "\n",
    "set={1,2,3,\"kishor\",\"kore\",\"hi\",\"hellow\"}\n",
    "print(type(set))\n",
    "print(id (set))\n"
   ]
  },
  {
   "cell_type": "code",
   "execution_count": 3,
   "id": "7b24b7a5",
   "metadata": {},
   "outputs": [
    {
     "ename": "TypeError",
     "evalue": "'set' object is not callable",
     "output_type": "error",
     "traceback": [
      "\u001b[1;31m---------------------------------------------------------------------------\u001b[0m",
      "\u001b[1;31mTypeError\u001b[0m                                 Traceback (most recent call last)",
      "\u001b[1;32mc:\\Users\\Kishor Kore\\Desktop\\deep\\.ipynb_checkpoints\\detatype-checkpoint.ipynb Cell 2'\u001b[0m in \u001b[0;36m<cell line: 1>\u001b[1;34m()\u001b[0m\n\u001b[1;32m----> <a href='vscode-notebook-cell:/c%3A/Users/Kishor%20Kore/Desktop/deep/.ipynb_checkpoints/detatype-checkpoint.ipynb#ch0000001?line=0'>1</a>\u001b[0m s\u001b[39m=\u001b[39m\u001b[39mset\u001b[39;49m()\n\u001b[0;32m      <a href='vscode-notebook-cell:/c%3A/Users/Kishor%20Kore/Desktop/deep/.ipynb_checkpoints/detatype-checkpoint.ipynb#ch0000001?line=1'>2</a>\u001b[0m \u001b[39mprint\u001b[39m(\u001b[39mtype\u001b[39m(s))\n",
      "\u001b[1;31mTypeError\u001b[0m: 'set' object is not callable"
     ]
    }
   ],
   "source": [
    "s=set()\n",
    "print(type(s))"
   ]
  },
  {
   "cell_type": "code",
   "execution_count": 6,
   "id": "8e9e4eed",
   "metadata": {},
   "outputs": [
    {
     "name": "stdout",
     "output_type": "stream",
     "text": [
      "{1, 12}\n"
     ]
    }
   ],
   "source": [
    "s={1,}\n",
    "s.add(12)\n",
    "print(s)"
   ]
  },
  {
   "cell_type": "code",
   "execution_count": 7,
   "id": "17a44d4b",
   "metadata": {},
   "outputs": [
    {
     "name": "stdout",
     "output_type": "stream",
     "text": [
      "6\n"
     ]
    }
   ],
   "source": [
    "s={1,2,3,\"hi\",\"hellow\",\"show\"}\n",
    "if s:\n",
    "    print(len(s))\n",
    "else:\n",
    "    print(\"that is an empty set\")"
   ]
  },
  {
   "cell_type": "code",
   "execution_count": 18,
   "id": "626a0cc2",
   "metadata": {},
   "outputs": [
    {
     "name": "stdout",
     "output_type": "stream",
     "text": [
      "True\n",
      "True\n",
      "{1, 2, 3, 23}\n",
      "{2, 3, 23}\n",
      "{2, 3, 23}\n",
      "{1, 2, 3, 23}\n",
      "{2, 3}\n",
      "s {2, 3, 23}\n",
      "s1 {1, 2, 3}\n",
      "differnace {23}\n",
      "{1}\n",
      "\n"
     ]
    }
   ],
   "source": [
    "s={1,2,3}\n",
    "s1={2,3,1}\n",
    "print(s==s1)\n",
    "print(1 in s1)\n",
    "s.add(23)\n",
    "print(s)\n",
    "s.remove(1)\n",
    "print(s)\n",
    "s.discard(33)\n",
    "print(s)\n",
    "print(s|s1) # union\n",
    "print(s&s1) # intersect\n",
    "print(\"s\",s)\n",
    "print(\"s1\",s1)\n",
    "s ={2, 3, 23}\n",
    "s1 ={1, 2, 3}\n",
    "print(\"differnace\",s-s1)\n",
    "print(s1-s)\n",
    "print()"
   ]
  },
  {
   "cell_type": "code",
   "execution_count": 24,
   "id": "7fb62f68",
   "metadata": {},
   "outputs": [
    {
     "name": "stdout",
     "output_type": "stream",
     "text": [
      "{1, 2, 3, 23}\n"
     ]
    }
   ],
   "source": [
    "# print(s.pop())\n",
    "s ={2, 3, 23}\n",
    "s1 ={1, 2, 3}\n",
    "s.update(s1)\n",
    "print(s)"
   ]
  },
  {
   "cell_type": "code",
   "execution_count": 25,
   "id": "d9538fd8",
   "metadata": {},
   "outputs": [
    {
     "ename": "TypeError",
     "evalue": "'set' object is not callable",
     "output_type": "error",
     "traceback": [
      "\u001b[1;31m---------------------------------------------------------------------------\u001b[0m",
      "\u001b[1;31mTypeError\u001b[0m                                 Traceback (most recent call last)",
      "\u001b[1;32mc:\\Users\\Kishor Kore\\Desktop\\deep\\.ipynb_checkpoints\\detatype-checkpoint.ipynb Cell 7'\u001b[0m in \u001b[0;36m<cell line: 2>\u001b[1;34m()\u001b[0m\n\u001b[0;32m      <a href='vscode-notebook-cell:/c%3A/Users/Kishor%20Kore/Desktop/deep/.ipynb_checkpoints/detatype-checkpoint.ipynb#ch0000006?line=0'>1</a>\u001b[0m l\u001b[39m=\u001b[39m[\u001b[39m1\u001b[39m,\u001b[39m2\u001b[39m,\u001b[39m3\u001b[39m,\u001b[39m3\u001b[39m,\u001b[39m4\u001b[39m]\n\u001b[1;32m----> <a href='vscode-notebook-cell:/c%3A/Users/Kishor%20Kore/Desktop/deep/.ipynb_checkpoints/detatype-checkpoint.ipynb#ch0000006?line=1'>2</a>\u001b[0m s\u001b[39m=\u001b[39m\u001b[39mset\u001b[39;49m(l)\n\u001b[0;32m      <a href='vscode-notebook-cell:/c%3A/Users/Kishor%20Kore/Desktop/deep/.ipynb_checkpoints/detatype-checkpoint.ipynb#ch0000006?line=2'>3</a>\u001b[0m l\u001b[39m=\u001b[39m\u001b[39mlist\u001b[39m(s)\n\u001b[0;32m      <a href='vscode-notebook-cell:/c%3A/Users/Kishor%20Kore/Desktop/deep/.ipynb_checkpoints/detatype-checkpoint.ipynb#ch0000006?line=3'>4</a>\u001b[0m \u001b[39mprint\u001b[39m(l)\n",
      "\u001b[1;31mTypeError\u001b[0m: 'set' object is not callable"
     ]
    }
   ],
   "source": [
    "l=[1,2,3,3,4]\n",
    "s=set(l)\n",
    "l=list(s)\n",
    "print(l)"
   ]
  },
  {
   "cell_type": "code",
   "execution_count": null,
   "id": "22059ffc",
   "metadata": {},
   "outputs": [],
   "source": [
    "# dict"
   ]
  },
  {
   "cell_type": "code",
   "execution_count": 27,
   "id": "3e941f0e",
   "metadata": {},
   "outputs": [
    {
     "name": "stdout",
     "output_type": "stream",
     "text": [
      "{'1': '45', 'yt': 45, (1, 2, 3): (1, 2, 4), ((1, 2, 3), (4, 5, 6)): [(1, 2), (4, 5)]}\n",
      "<class 'dict'>\n",
      "2034336350848\n"
     ]
    }
   ],
   "source": [
    "\n",
    "d={'1':\"45\",'yt':45,(1,2,3):(1,2,4),((1,2,3),(4,5,6)):[(1,2),(4,5)]}\n",
    "print(d)\n",
    "print(type(d))\n",
    "print(id(d))\n",
    "\n"
   ]
  },
  {
   "cell_type": "code",
   "execution_count": 29,
   "id": "ff120736",
   "metadata": {},
   "outputs": [
    {
     "name": "stdout",
     "output_type": "stream",
     "text": [
      "{'1': '45', 'yt': 45, (1, 2, 3): (1, 2, 4), ((1, 2, 3), (4, 5, 6)): [(1, 2), (4, 5)], 'k': 34, 'p': 90}\n"
     ]
    }
   ],
   "source": [
    "d={'1':\"45\",'yt':45,(1,2,3):(1,2,4),((1,2,3),(4,5,6)):[(1,2),(4,5)]}\n",
    "d1={\"k\":34}\n",
    "d.update(d1)\n",
    "d['p']=90\n",
    "print(d)"
   ]
  },
  {
   "cell_type": "code",
   "execution_count": 32,
   "id": "419785be",
   "metadata": {},
   "outputs": [
    {
     "name": "stdout",
     "output_type": "stream",
     "text": [
      "not found\n",
      "('p', 90)\n"
     ]
    },
    {
     "data": {
      "text/plain": [
       "' y  o  u        '"
      ]
     },
     "execution_count": 32,
     "metadata": {},
     "output_type": "execute_result"
    }
   ],
   "source": [
    "print(d.get('111',\"not found\"))\n",
    "print(d.popitem())\n",
    "\n",
    "\n",
    "\n",
    "\" y  o  u        \" "
   ]
  },
  {
   "cell_type": "code",
   "execution_count": 34,
   "id": "2a580e7a",
   "metadata": {},
   "outputs": [
    {
     "ename": "TypeError",
     "evalue": "fromkeys expected at least 1 argument, got 0",
     "output_type": "error",
     "traceback": [
      "\u001b[1;31m---------------------------------------------------------------------------\u001b[0m",
      "\u001b[1;31mTypeError\u001b[0m                                 Traceback (most recent call last)",
      "\u001b[1;32mc:\\Users\\Kishor Kore\\Desktop\\deep\\.ipynb_checkpoints\\detatype-checkpoint.ipynb Cell 12'\u001b[0m in \u001b[0;36m<cell line: 2>\u001b[1;34m()\u001b[0m\n\u001b[0;32m      <a href='vscode-notebook-cell:/c%3A/Users/Kishor%20Kore/Desktop/deep/.ipynb_checkpoints/detatype-checkpoint.ipynb#ch0000013?line=0'>1</a>\u001b[0m d \u001b[39m=\u001b[39m { \u001b[39m'\u001b[39m\u001b[39m1\u001b[39m\u001b[39m'\u001b[39m : \u001b[39m\"\u001b[39m\u001b[39m45\u001b[39m\u001b[39m\"\u001b[39m , \u001b[39m'\u001b[39m\u001b[39myt\u001b[39m\u001b[39m'\u001b[39m :\u001b[39m45\u001b[39m ,( \u001b[39m1\u001b[39m, \u001b[39m2\u001b[39m, \u001b[39m3\u001b[39m ) : ( \u001b[39m1\u001b[39m , \u001b[39m2\u001b[39m , \u001b[39m4\u001b[39m ) ,(  ( \u001b[39m1\u001b[39m , \u001b[39m2\u001b[39m , \u001b[39m3\u001b[39m) , ( \u001b[39m4\u001b[39m , \u001b[39m5\u001b[39m , \u001b[39m6\u001b[39m) ) :[ (\u001b[39m1\u001b[39m , \u001b[39m2\u001b[39m  ) , ( \u001b[39m4\u001b[39m, \u001b[39m5\u001b[39m  ) ]  }\n\u001b[1;32m----> <a href='vscode-notebook-cell:/c%3A/Users/Kishor%20Kore/Desktop/deep/.ipynb_checkpoints/detatype-checkpoint.ipynb#ch0000013?line=1'>2</a>\u001b[0m \u001b[39mprint\u001b[39m(d\u001b[39m.\u001b[39;49mfromkeys())\n\u001b[0;32m      <a href='vscode-notebook-cell:/c%3A/Users/Kishor%20Kore/Desktop/deep/.ipynb_checkpoints/detatype-checkpoint.ipynb#ch0000013?line=2'>3</a>\u001b[0m d\u001b[39m.\u001b[39mclear()\n\u001b[0;32m      <a href='vscode-notebook-cell:/c%3A/Users/Kishor%20Kore/Desktop/deep/.ipynb_checkpoints/detatype-checkpoint.ipynb#ch0000013?line=3'>4</a>\u001b[0m \u001b[39mprint\u001b[39m(d)\n",
      "\u001b[1;31mTypeError\u001b[0m: fromkeys expected at least 1 argument, got 0"
     ]
    }
   ],
   "source": [
    "d = { '1' : \"45\" , 'yt' : 45 ,( 1, 2, 3 ) : ( 1 , 2 , 4 ) ,(  ( 1 , 2 , 3) , ( 4 , 5 , 6 ) ) :[ (1 , 2  ) , ( 4, 5  ) ]  }\n",
    "print(d.fromkeys('1',))\n",
    "d.clear()\n",
    "print(d)"
   ]
  },
  {
   "cell_type": "code",
   "execution_count": null,
   "id": "564876e8",
   "metadata": {},
   "outputs": [],
   "source": [
    "d = { '1' : \"45\" , 'yt' : 45 ,( 1, 2, 3 ) : ( 1 , 2 , 4 ) ,(  ( 1 , 2 , 3) , ( 4 , 5 , 6 ) ) :[ (1 , 2  ) , ( 4, 5  ) ]  }\n"
   ]
  },
  {
   "cell_type": "code",
   "execution_count": null,
   "id": "873c149f",
   "metadata": {},
   "outputs": [],
   "source": []
  },
  {
   "cell_type": "code",
   "execution_count": null,
   "id": "100bcd1a",
   "metadata": {},
   "outputs": [],
   "source": []
  }
 ],
 "metadata": {
  "kernelspec": {
   "display_name": "Python 3.10.4 64-bit",
   "language": "python",
   "name": "python3"
  },
  "language_info": {
   "codemirror_mode": {
    "name": "ipython",
    "version": 3
   },
   "file_extension": ".py",
   "mimetype": "text/x-python",
   "name": "python",
   "nbconvert_exporter": "python",
   "pygments_lexer": "ipython3",
   "version": "3.10.4"
  },
  "vscode": {
   "interpreter": {
    "hash": "22eb5e2c22c238faa93ba91a82f6814d9ac5291abf168a8545504b183eda394b"
   }
  }
 },
 "nbformat": 4,
 "nbformat_minor": 5
}
